{
 "cells": [
  {
   "cell_type": "markdown",
   "metadata": {},
   "source": [
    "# Working Agreements"
   ]
  },
  {
   "cell_type": "markdown",
   "metadata": {},
   "source": [
    "**Comunicación**\n",
    "\n",
    "- **Canales:** Slack para comunicación formal y envío de documentos y WhatsApp para comunicación informal y avisar de algo urgente.\n",
    "\n",
    "- **Avisos:** Comunicar si una avanza o realiza cambios para evitar solapamientos.\n",
    "\n",
    "**Herramientas**\n",
    "\n",
    "- Canva para presentación, GitHub para control de versiones, Tableau y PowerBI para visualizaciones.\n",
    "\n",
    "**Gestión de tareas**\n",
    "\n",
    "- **Tareas:** Repartidas equitativamente y consensuadas entre todas.\n",
    "\n",
    "- **Prioridades:** Metodología ágil, priorizando valor y tiempo estimado.\n",
    "\n",
    "**Calidad del trabajo**\n",
    "\n",
    "- **Estándares de Código:** Comentar el código de forma clara y concisa.\n",
    "\n",
    "**Resolución de conflictos**\n",
    "\n",
    "- **Primero Directo:** Resolver conflictos directamente y amistosamente.\n",
    "\n",
    "- **Respeto:** Mantener un ambiente de respeto y profesionalismo.\n",
    "\n",
    "**Adaptabilidad**\n",
    "\n",
    "- **Flexibilidad:** Adaptarse a cambios y desafíos con actitud positiva.\n"
   ]
  }
 ],
 "metadata": {
  "language_info": {
   "name": "python"
  }
 },
 "nbformat": 4,
 "nbformat_minor": 2
}
